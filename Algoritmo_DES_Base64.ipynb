{
  "nbformat": 4,
  "nbformat_minor": 0,
  "metadata": {
    "colab": {
      "provenance": []
    },
    "kernelspec": {
      "name": "python3",
      "display_name": "Python 3"
    },
    "language_info": {
      "name": "python"
    }
  },
  "cells": [
    {
      "cell_type": "code",
      "execution_count": 1,
      "metadata": {
        "id": "xar5isFndS_y"
      },
      "outputs": [],
      "source": [
        "import base64\n",
        "\n",
        "key = base64.b64decode('c3Bpcml0dXM=')  #'spiritus'\n"
      ]
    },
    {
      "cell_type": "code",
      "source": [
        "encoded_text = \"\"\"upa4z5/RUfCx1HVLFKLXOlIYSKb8a7zGn4D+d\n",
        "lPRATPbnz4N4CCBdKWr978T35iXCktj86og7M\n",
        "+2Qv260qHwkhbpxM1lXXNFcT/v7cb3UFy/5Q\n",
        "9md49vA7I0o8XCsZyo7KOTgmRonpzXbHzwX\n",
        "VOimcfTnh2v9pdggxCumDQ5jVpGrF8S7agqo\n",
        "+Ogts7I+xWHVtOqtlvtgkwXdypikfDuzZV9/NaQ\n",
        "CmChulm1No/GnZtPnxYsu5hZcPJN8MRUOUs\n",
        "s+C9q+oIZGxf04cBbSZnt9RCPFkZcjxRcHLyVn\n",
        "2TfsR7OJ0sbc4z19MqUxQvXPmb8CsRdgbs6\n",
        "QQ6fxtJWBvkm6Bu3Leuuu1cNOqHmtjdamc5\n",
        "xUtpzi7Z4UVWNgk67FIuzQGDcTfThFNumpjIiS\n",
        "6A7jfQmxT+Y7cQqc4FyIz8+He4hQxCciwCu2X\n",
        "LtNOFk+GXpM7BKZ5g4rInvOoR24xfLsZ8FVU\n",
        "CCDOJkWBZJq+LNKuP1p5cq3OXJfGDOTAjT7\n",
        "a/5pJXSarWTGuLMhrVDXLDLHc/QjOvphAqLb\n",
        "g1kjbgY76WFZug9iktesLlpdBqpb/+8n8mrkXq\n",
        "CYy0cZcGlbLMOqgOhcsKSkDzRo08J4dqpQjy\n",
        "KCQroTltDbw==\"\"\"\n",
        "\n",
        "encoded_text = encoded_text.replace(\"\\n\", \"\")\n",
        "\n",
        "cipher_text = base64.b64decode(encoded_text)\n"
      ],
      "metadata": {
        "id": "CkjTEYKKdfPE"
      },
      "execution_count": 3,
      "outputs": []
    },
    {
      "cell_type": "code",
      "source": [
        "iv = b'\\x00' * 8"
      ],
      "metadata": {
        "id": "gXZFsEq0dtmV"
      },
      "execution_count": 4,
      "outputs": []
    },
    {
      "cell_type": "code",
      "source": [
        "pip install pycryptodome"
      ],
      "metadata": {
        "colab": {
          "base_uri": "https://localhost:8080/"
        },
        "id": "9q9PTFpnd68O",
        "outputId": "8d639dd6-4005-4343-813f-76e700826ca7"
      },
      "execution_count": 6,
      "outputs": [
        {
          "output_type": "stream",
          "name": "stdout",
          "text": [
            "Collecting pycryptodome\n",
            "  Downloading pycryptodome-3.20.0-cp35-abi3-manylinux_2_17_x86_64.manylinux2014_x86_64.whl.metadata (3.4 kB)\n",
            "Downloading pycryptodome-3.20.0-cp35-abi3-manylinux_2_17_x86_64.manylinux2014_x86_64.whl (2.1 MB)\n",
            "\u001b[?25l   \u001b[90m━━━━━━━━━━━━━━━━━━━━━━━━━━━━━━━━━━━━━━━━\u001b[0m \u001b[32m0.0/2.1 MB\u001b[0m \u001b[31m?\u001b[0m eta \u001b[36m-:--:--\u001b[0m\r\u001b[2K   \u001b[91m━━━━━\u001b[0m\u001b[91m╸\u001b[0m\u001b[90m━━━━━━━━━━━━━━━━━━━━━━━━━━━━━━━━━━\u001b[0m \u001b[32m0.3/2.1 MB\u001b[0m \u001b[31m9.1 MB/s\u001b[0m eta \u001b[36m0:00:01\u001b[0m\r\u001b[2K   \u001b[91m━━━━━━━━━━━━━━━━━━━━━━━━━━━━━━━━━━━━━━━\u001b[0m\u001b[91m╸\u001b[0m \u001b[32m2.1/2.1 MB\u001b[0m \u001b[31m36.7 MB/s\u001b[0m eta \u001b[36m0:00:01\u001b[0m\r\u001b[2K   \u001b[90m━━━━━━━━━━━━━━━━━━━━━━━━━━━━━━━━━━━━━━━━\u001b[0m \u001b[32m2.1/2.1 MB\u001b[0m \u001b[31m26.7 MB/s\u001b[0m eta \u001b[36m0:00:00\u001b[0m\n",
            "\u001b[?25hInstalling collected packages: pycryptodome\n",
            "Successfully installed pycryptodome-3.20.0\n"
          ]
        }
      ]
    },
    {
      "cell_type": "code",
      "source": [
        "from Crypto.Cipher import DES\n",
        "from Crypto.Util.Padding import unpad\n",
        "\n",
        "des_cbc = DES.new(key, DES.MODE_CBC, iv)\n",
        "\n",
        "try:\n",
        "    decrypted_text = des_cbc.decrypt(cipher_text)\n",
        "    decrypted_text = unpad(decrypted_text, 8).decode('utf-8', errors='ignore')\n",
        "    print(decrypted_text)\n",
        "except Exception as e:\n",
        "    decrypted_text = str(e)\n"
      ],
      "metadata": {
        "colab": {
          "base_uri": "https://localhost:8080/"
        },
        "id": "_kzNt6L_dvhd",
        "outputId": "31c73808-9fdc-419c-825d-5c4be503f09a"
      },
      "execution_count": 8,
      "outputs": [
        {
          "output_type": "stream",
          "name": "stdout",
          "text": [
            "’Tis but thy name that is my enemy.\r\n",
            "Thou art thyself, though not a Montague.\r\n",
            "What’s Montague? It is nor hand, nor foot,\r\n",
            "Nor arm, nor face. O, be some other name\r\n",
            "Belonging to a man.\r\n",
            "What’s in a name? That which we call a rose\r\n",
            "By any other word would smell as sweet.\r\n",
            "So Romeo would, were he not Romeo called,\r\n",
            "Retain that dear perfection which he owes\r\n",
            "Without that title. Romeo, doff thy name,\r\n",
            "And, for thy name, which is no part of thee,\r\n",
            "Take all myself.\n"
          ]
        }
      ]
    }
  ]
}